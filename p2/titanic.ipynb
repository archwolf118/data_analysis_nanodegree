{
 "cells": [
  {
   "cell_type": "markdown",
   "metadata": {},
   "source": [
    "# 泰塔尼克号乘客数据分析\n",
    "\n",
    "## 提出问题 \n",
    "1）在891名乘客中，男乘客多少人？女乘客多少人？男乘客生还多少人，占男乘客的比例？女乘客生还多少人，占女乘客的比例？\n",
    "2）男女各年龄段的生存比例？儿童的生存比例是否更高?\n",
    "3）乘客等级因素是否影响生存比例？"
   ]
  },
  {
   "cell_type": "markdown",
   "metadata": {
    "collapsed": true
   },
   "source": [
    "## 清洗数据\n",
    "对数据进行清洗，如果没有数据赋予值“None”"
   ]
  },
  {
   "cell_type": "code",
   "execution_count": 193,
   "metadata": {
    "collapsed": false
   },
   "outputs": [
    {
     "name": "stdout",
     "output_type": "stream",
     "text": [
      "Populating the interactive namespace from numpy and matplotlib\n"
     ]
    }
   ],
   "source": [
    "import unicodecsv\n",
    "import csv\n",
    "import numpy as np\n",
    "import pandas as pd\n",
    "from IPython.display import display\n",
    "import matplotlib.pyplot as plt\n",
    "import seaborn as sns\n",
    "%pylab inline"
   ]
  },
  {
   "cell_type": "code",
   "execution_count": 194,
   "metadata": {
    "collapsed": false
   },
   "outputs": [
    {
     "data": {
      "text/plain": [
       "{u'Age': u'22',\n",
       " u'Cabin': u'',\n",
       " u'Embarked': u'S',\n",
       " u'Fare': u'7.25',\n",
       " u'Name': u'Braund, Mr. Owen Harris',\n",
       " u'Parch': u'0',\n",
       " u'PassengerId': u'1',\n",
       " u'Pclass': u'3',\n",
       " u'Sex': u'male',\n",
       " u'SibSp': u'1',\n",
       " u'Survived': u'0',\n",
       " u'Ticket': u'A/5 21171'}"
      ]
     },
     "execution_count": 194,
     "metadata": {},
     "output_type": "execute_result"
    }
   ],
   "source": [
    "#从CSV文件中读取数据\n",
    "def read_csv(filename):\n",
    "    with open(filename, 'rb') as f:\n",
    "        reader = unicodecsv.DictReader(f)\n",
    "        return list(reader)\n",
    "    \n",
    "passengers = read_csv('titanic_data.csv')\n",
    "passengers[0]"
   ]
  },
  {
   "cell_type": "code",
   "execution_count": 195,
   "metadata": {
    "collapsed": false,
    "scrolled": true
   },
   "outputs": [
    {
     "data": {
      "text/plain": [
       "{u'Age': 22.0,\n",
       " u'Cabin': None,\n",
       " u'Embarked': u'S',\n",
       " u'Fare': 7.25,\n",
       " u'Name': u'Braund, Mr. Owen Harris',\n",
       " u'Parch': 0,\n",
       " u'PassengerId': u'1',\n",
       " u'Pclass': 3,\n",
       " u'Sex': u'male',\n",
       " u'SibSp': 1,\n",
       " u'Survived': 0,\n",
       " u'Ticket': u'A/5 21171'}"
      ]
     },
     "execution_count": 195,
     "metadata": {},
     "output_type": "execute_result"
    }
   ],
   "source": [
    "#对数字进行清洗，没有值则返回“None”\n",
    "def parse_maybe_float(i):\n",
    "    if i == '':\n",
    "        return None\n",
    "    else:\n",
    "        return float(i)\n",
    "    \n",
    "#对字符串进行清洗，没有值则返回“None”    \n",
    "def parse_str(s):\n",
    "    if s == '':\n",
    "        return None\n",
    "    else:\n",
    "        return s\n",
    "    \n",
    "for passenger in passengers:\n",
    "    passenger['Age'] = parse_maybe_float(passenger['Age'])\n",
    "    passenger['Fare'] = parse_maybe_float(passenger['Fare'])\n",
    "    passenger['Parch'] = int(float(passenger['Parch']))\n",
    "    passenger['SibSp'] = int(float(passenger['SibSp']))\n",
    "    passenger['Pclass'] = int(float(passenger['Pclass']))\n",
    "    passenger['Survived'] = int(float(passenger['Survived']))\n",
    "    passenger['Cabin'] = parse_str(passenger['Cabin'])\n",
    "\n",
    "passengers[0]    "
   ]
  },
  {
   "cell_type": "code",
   "execution_count": 196,
   "metadata": {
    "collapsed": true
   },
   "outputs": [],
   "source": [
    "#把清洗的数据存储为dataframe，方便分析\n",
    "data = pd.DataFrame(passengers)"
   ]
  },
  {
   "cell_type": "code",
   "execution_count": 197,
   "metadata": {
    "collapsed": false,
    "scrolled": true
   },
   "outputs": [
    {
     "data": {
      "text/html": [
       "<div>\n",
       "<table border=\"1\" class=\"dataframe\">\n",
       "  <thead>\n",
       "    <tr style=\"text-align: right;\">\n",
       "      <th></th>\n",
       "      <th>Age</th>\n",
       "      <th>Cabin</th>\n",
       "      <th>Embarked</th>\n",
       "      <th>Fare</th>\n",
       "      <th>Name</th>\n",
       "      <th>Parch</th>\n",
       "      <th>PassengerId</th>\n",
       "      <th>Pclass</th>\n",
       "      <th>Sex</th>\n",
       "      <th>SibSp</th>\n",
       "      <th>Survived</th>\n",
       "      <th>Ticket</th>\n",
       "    </tr>\n",
       "  </thead>\n",
       "  <tbody>\n",
       "    <tr>\n",
       "      <th>0</th>\n",
       "      <td>22.0</td>\n",
       "      <td>None</td>\n",
       "      <td>S</td>\n",
       "      <td>7.2500</td>\n",
       "      <td>Braund, Mr. Owen Harris</td>\n",
       "      <td>0</td>\n",
       "      <td>1</td>\n",
       "      <td>3</td>\n",
       "      <td>male</td>\n",
       "      <td>1</td>\n",
       "      <td>0</td>\n",
       "      <td>A/5 21171</td>\n",
       "    </tr>\n",
       "    <tr>\n",
       "      <th>1</th>\n",
       "      <td>38.0</td>\n",
       "      <td>C85</td>\n",
       "      <td>C</td>\n",
       "      <td>71.2833</td>\n",
       "      <td>Cumings, Mrs. John Bradley (Florence Briggs Th...</td>\n",
       "      <td>0</td>\n",
       "      <td>2</td>\n",
       "      <td>1</td>\n",
       "      <td>female</td>\n",
       "      <td>1</td>\n",
       "      <td>1</td>\n",
       "      <td>PC 17599</td>\n",
       "    </tr>\n",
       "    <tr>\n",
       "      <th>2</th>\n",
       "      <td>26.0</td>\n",
       "      <td>None</td>\n",
       "      <td>S</td>\n",
       "      <td>7.9250</td>\n",
       "      <td>Heikkinen, Miss. Laina</td>\n",
       "      <td>0</td>\n",
       "      <td>3</td>\n",
       "      <td>3</td>\n",
       "      <td>female</td>\n",
       "      <td>0</td>\n",
       "      <td>1</td>\n",
       "      <td>STON/O2. 3101282</td>\n",
       "    </tr>\n",
       "    <tr>\n",
       "      <th>3</th>\n",
       "      <td>35.0</td>\n",
       "      <td>C123</td>\n",
       "      <td>S</td>\n",
       "      <td>53.1000</td>\n",
       "      <td>Futrelle, Mrs. Jacques Heath (Lily May Peel)</td>\n",
       "      <td>0</td>\n",
       "      <td>4</td>\n",
       "      <td>1</td>\n",
       "      <td>female</td>\n",
       "      <td>1</td>\n",
       "      <td>1</td>\n",
       "      <td>113803</td>\n",
       "    </tr>\n",
       "    <tr>\n",
       "      <th>4</th>\n",
       "      <td>35.0</td>\n",
       "      <td>None</td>\n",
       "      <td>S</td>\n",
       "      <td>8.0500</td>\n",
       "      <td>Allen, Mr. William Henry</td>\n",
       "      <td>0</td>\n",
       "      <td>5</td>\n",
       "      <td>3</td>\n",
       "      <td>male</td>\n",
       "      <td>0</td>\n",
       "      <td>0</td>\n",
       "      <td>373450</td>\n",
       "    </tr>\n",
       "  </tbody>\n",
       "</table>\n",
       "</div>"
      ],
      "text/plain": [
       "    Age Cabin Embarked     Fare  \\\n",
       "0  22.0  None        S   7.2500   \n",
       "1  38.0   C85        C  71.2833   \n",
       "2  26.0  None        S   7.9250   \n",
       "3  35.0  C123        S  53.1000   \n",
       "4  35.0  None        S   8.0500   \n",
       "\n",
       "                                                Name  Parch PassengerId  \\\n",
       "0                            Braund, Mr. Owen Harris      0           1   \n",
       "1  Cumings, Mrs. John Bradley (Florence Briggs Th...      0           2   \n",
       "2                             Heikkinen, Miss. Laina      0           3   \n",
       "3       Futrelle, Mrs. Jacques Heath (Lily May Peel)      0           4   \n",
       "4                           Allen, Mr. William Henry      0           5   \n",
       "\n",
       "   Pclass     Sex  SibSp  Survived            Ticket  \n",
       "0       3    male      1         0         A/5 21171  \n",
       "1       1  female      1         1          PC 17599  \n",
       "2       3  female      0         1  STON/O2. 3101282  \n",
       "3       1  female      1         1            113803  \n",
       "4       3    male      0         0            373450  "
      ]
     },
     "metadata": {},
     "output_type": "display_data"
    }
   ],
   "source": [
    "display(data.head())"
   ]
  },
  {
   "cell_type": "code",
   "execution_count": 198,
   "metadata": {
    "collapsed": false
   },
   "outputs": [
    {
     "data": {
      "text/plain": [
       "Age            177\n",
       "Cabin          687\n",
       "Embarked         0\n",
       "Fare             0\n",
       "Name             0\n",
       "Parch            0\n",
       "PassengerId      0\n",
       "Pclass           0\n",
       "Sex              0\n",
       "SibSp            0\n",
       "Survived         0\n",
       "Ticket           0\n",
       "dtype: int64"
      ]
     },
     "execution_count": 198,
     "metadata": {},
     "output_type": "execute_result"
    }
   ],
   "source": [
    "#查看数据缺失情况\n",
    "data.isnull().sum()"
   ]
  },
  {
   "cell_type": "markdown",
   "metadata": {},
   "source": [
    "由于对数据清洗时，缺失的值赋予的是“None”，所以isnull()函数仍然返回了“None”的数量。\n",
    "年龄“Age”数据缺失了177个，在分析年龄因素的时候我们可以方便的使用判断语句排除年龄为“None”的人；\n",
    "房间号“Cabin”缺失了687个，但它不是我们关注的重点。\n",
    "其他数据完整，可以进行分析了。"
   ]
  },
  {
   "cell_type": "markdown",
   "metadata": {
    "collapsed": true
   },
   "source": [
    "## 调查数据\n",
    "统计男人和女人的数量，以及男女的生还者比例。"
   ]
  },
  {
   "cell_type": "code",
   "execution_count": 199,
   "metadata": {
    "collapsed": false
   },
   "outputs": [
    {
     "data": {
      "text/plain": [
       "891"
      ]
     },
     "execution_count": 199,
     "metadata": {},
     "output_type": "execute_result"
    }
   ],
   "source": [
    "#统计数据中的总人数\n",
    "len(data.index)"
   ]
  },
  {
   "cell_type": "code",
   "execution_count": 200,
   "metadata": {
    "collapsed": false
   },
   "outputs": [
    {
     "data": {
      "text/plain": [
       "Sex\n",
       "female    314\n",
       "male      577\n",
       "dtype: int64"
      ]
     },
     "execution_count": 200,
     "metadata": {},
     "output_type": "execute_result"
    }
   ],
   "source": [
    "#统计男性和女性各多少人\n",
    "sex_num = data.groupby('Sex').size()\n",
    "sex_num"
   ]
  },
  {
   "cell_type": "code",
   "execution_count": 201,
   "metadata": {
    "collapsed": false
   },
   "outputs": [
    {
     "data": {
      "text/plain": [
       "Sex\n",
       "female    233\n",
       "male      109\n",
       "Name: Survived, dtype: int64"
      ]
     },
     "execution_count": 201,
     "metadata": {},
     "output_type": "execute_result"
    }
   ],
   "source": [
    "#统计男女各生还多少人\n",
    "sex_survived_num =data.groupby('Sex').sum()['Survived']\n",
    "sex_survived_num"
   ]
  },
  {
   "cell_type": "code",
   "execution_count": 202,
   "metadata": {
    "collapsed": false
   },
   "outputs": [
    {
     "data": {
      "text/plain": [
       "Sex\n",
       "female    0.742038\n",
       "male      0.188908\n",
       "dtype: float64"
      ]
     },
     "execution_count": 202,
     "metadata": {},
     "output_type": "execute_result"
    }
   ],
   "source": [
    "#计算男女各自的生还比例\n",
    "sex_survived_num/sex_num"
   ]
  },
  {
   "cell_type": "markdown",
   "metadata": {},
   "source": [
    "作图观察上述数据"
   ]
  },
  {
   "cell_type": "code",
   "execution_count": 203,
   "metadata": {
    "collapsed": false
   },
   "outputs": [
    {
     "data": {
      "text/plain": [
       "<matplotlib.legend.Legend at 0x11187588>"
      ]
     },
     "execution_count": 203,
     "metadata": {},
     "output_type": "execute_result"
    },
    {
     "data": {
      "image/png": "[encoded data removed]",
      "text/plain": [
       "<matplotlib.figure.Figure at 0x111875c0>"
      ]
     },
     "metadata": {},
     "output_type": "display_data"
    }
   ],
   "source": [
    "plt.ylabel('num')\n",
    "plt.xticks((0,1),('Female\\n74.2% survived','Male\\n18.9% survived'))\n",
    "total_num = plt.bar((-0.125,0.875),sex_num,width = 0.25,align= 'center')\n",
    "survived_num = plt.bar((0,1),sex_survived_num,width = 0.25,color ='red')\n",
    "plt.legend([total_num,survived_num],['Total number','Suvived number'],loc = 'upper left')"
   ]
  },
  {
   "cell_type": "markdown",
   "metadata": {},
   "source": [
    "从以上分析中可以得到891名乘客中，男性577人，生还109人，生还比例为18.9%；女性233人，生还233人，生还比例为74.2%，下面分别计算男女乘客各年龄段的生存比例。"
   ]
  },
  {
   "cell_type": "code",
   "execution_count": 204,
   "metadata": {
    "collapsed": false
   },
   "outputs": [
    {
     "data": {
      "text/plain": [
       "[0, 5, 10, 15, 20, 25, 30, 35, 40, 45, 50, 55, 60, 65, 70, 75, 80]"
      ]
     },
     "execution_count": 204,
     "metadata": {},
     "output_type": "execute_result"
    }
   ],
   "source": [
    "#给出年龄段的跨度，按等差数列给出年龄段的数组\n",
    "def age_list(n):\n",
    "    age = [0]\n",
    "    i = 0\n",
    "    while i < 80:\n",
    "        i = i + n\n",
    "        age.append(i)\n",
    "    return age\n",
    "#年龄段的跨度为5\n",
    "age_level=age_list(5)\n",
    "age_level"
   ]
  },
  {
   "cell_type": "code",
   "execution_count": 205,
   "metadata": {
    "collapsed": false
   },
   "outputs": [],
   "source": [
    "#判断给定年龄在哪个年龄段的程序\n",
    "def index_age_stage(age,age_level):\n",
    "    i = 0\n",
    "    for age_element in age_level[1:]:\n",
    "        if age < age_element:\n",
    "            break\n",
    "        else:\n",
    "            i = i+1\n",
    "    return i"
   ]
  },
  {
   "cell_type": "code",
   "execution_count": 206,
   "metadata": {
    "collapsed": false
   },
   "outputs": [],
   "source": [
    "#此程序统计乘客的年龄分布和各年龄段的生还人数（参数中考虑性别的因素）。\n",
    "def survived_ratio(sex,age_level):\n",
    "    n = len(age_level)\n",
    "    survive = [0]*n\n",
    "    total = [0]*n\n",
    "    for passenger in passengers:\n",
    "        if passenger['Sex'] == sex and passenger['Age'] > 0:\n",
    "            i =index_age_stage(passenger['Age'],age_level)\n",
    "            total[i] = total[i] + 1\n",
    "            if passenger['Survived'] == 1:\n",
    "                survive[i] = survive[i] + 1.\n",
    "#                 print survive[i]\n",
    "            \n",
    "    return np.array(survive)/np.array(total)"
   ]
  },
  {
   "cell_type": "code",
   "execution_count": 207,
   "metadata": {
    "collapsed": false
   },
   "outputs": [
    {
     "data": {
      "text/plain": [
       "array([ 0.65217391,  0.44444444,  0.28571429,  0.1       ,  0.09722222,\n",
       "        0.23684211,  0.20967742,  0.22222222,  0.16666667,  0.25925926,\n",
       "        0.15      ,  0.1       ,  0.18181818,  0.        ,  0.        ,\n",
       "               nan,  1.        ])"
      ]
     },
     "execution_count": 207,
     "metadata": {},
     "output_type": "execute_result"
    }
   ],
   "source": [
    "# 男性各年龄段的生还比例\n",
    "male_survived_ratio = survived_ratio('male',age_level)\n",
    "male_survived_ratio"
   ]
  },
  {
   "cell_type": "code",
   "execution_count": 208,
   "metadata": {
    "collapsed": false
   },
   "outputs": [
    {
     "data": {
      "text/plain": [
       "<Container object of 17 artists>"
      ]
     },
     "execution_count": 208,
     "metadata": {},
     "output_type": "execute_result"
    },
    {
     "data": {
      "image/png": "[encoded data removed]",
      "text/plain": [
       "<matplotlib.figure.Figure at 0x109bce48>"
      ]
     },
     "metadata": {},
     "output_type": "display_data"
    }
   ],
   "source": [
    "plt.xlabel(\"Age of male passengers\")\n",
    "plt.ylabel('Ratio of survived')\n",
    "plt.bar(age_level,male_survived_ratio,width = 5)"
   ]
  },
  {
   "cell_type": "code",
   "execution_count": 209,
   "metadata": {
    "collapsed": false
   },
   "outputs": [
    {
     "data": {
      "text/plain": [
       "array([ 0.70588235,  0.53846154,  0.55555556,  0.80555556,  0.76190476,\n",
       "        0.66666667,  0.81818182,  0.85185185,  0.72222222,  0.64285714,\n",
       "        0.91666667,  0.83333333,  1.        ,         nan,         nan,\n",
       "               nan,         nan])"
      ]
     },
     "execution_count": 209,
     "metadata": {},
     "output_type": "execute_result"
    }
   ],
   "source": [
    "# 女性各年龄段的生还比例\n",
    "female_survived_ratio = survived_ratio('female',age_level)\n",
    "female_survived_ratio"
   ]
  },
  {
   "cell_type": "code",
   "execution_count": 210,
   "metadata": {
    "collapsed": false,
    "scrolled": false
   },
   "outputs": [
    {
     "data": {
      "text/plain": [
       "<Container object of 17 artists>"
      ]
     },
     "execution_count": 210,
     "metadata": {},
     "output_type": "execute_result"
    },
    {
     "data": {
      "image/png": "[encoded data removed]",
      "text/plain": [
       "<matplotlib.figure.Figure at 0x112e2b00>"
      ]
     },
     "metadata": {},
     "output_type": "display_data"
    }
   ],
   "source": [
    "plt.xlabel(\"Age of female passengers\")\n",
    "plt.ylabel('Ratio of survived')\n",
    "plt.bar(age_level,female_survived_ratio,width = 5)"
   ]
  },
  {
   "cell_type": "markdown",
   "metadata": {},
   "source": [
    "\n",
    "\n"
   ]
  },
  {
   "cell_type": "markdown",
   "metadata": {},
   "source": [
    "根据上面两图可知，男性15岁以下乘客，生存比例比15岁以上（含15岁）要高得多，15~25岁的男性的生存比例只有10%左右。80以上男性乘客只有1人，并且生还了，此数据不具有代表性。说明儿童在逃生过程中受到了保护优先上了救生艇。\n",
    "女性成员各年龄段的生存比例都大于50%，说明女性乘客优先上了救生艇。\n",
    "下面,调查乘客等级的因素是否影响生还比例。"
   ]
  },
  {
   "cell_type": "code",
   "execution_count": 211,
   "metadata": {
    "collapsed": false
   },
   "outputs": [],
   "source": [
    "#该程序可以统计各等级乘客总人数、各等级男女比例，各等级男女各自的生存比例\n",
    "def sex_num_Pclass(class_type):\n",
    "    class_num = 0\n",
    "    male_num = 0\n",
    "    female_num = 0\n",
    "    male_survived_num = 0\n",
    "    female_survived_num = 0\n",
    "    for passenger in passengers:\n",
    "        if passenger['Pclass'] == class_type:\n",
    "            class_num = class_num +1\n",
    "            if passenger['Sex'] == 'male':\n",
    "                male_num = male_num +1\n",
    "                if passenger['Survived'] ==1:\n",
    "                    male_survived_num = male_survived_num + 1\n",
    "            else:\n",
    "                female_num = female_num +1\n",
    "                if passenger['Survived'] ==1:\n",
    "                    female_survived_num = female_survived_num + 1\n",
    "    return class_num,male_num,female_num,float(male_num)/female_num,\\\n",
    "           male_survived_num,float(male_survived_num)/male_num,female_survived_num,float(female_survived_num)/female_num    "
   ]
  },
  {
   "cell_type": "code",
   "execution_count": 212,
   "metadata": {
    "collapsed": false
   },
   "outputs": [
    {
     "data": {
      "text/html": [
       "<div>\n",
       "<table border=\"1\" class=\"dataframe\">\n",
       "  <thead>\n",
       "    <tr style=\"text-align: right;\">\n",
       "      <th></th>\n",
       "      <th>total_num</th>\n",
       "      <th>total_male_num</th>\n",
       "      <th>total_female_num</th>\n",
       "      <th>total_ratio</th>\n",
       "      <th>male_survived_num</th>\n",
       "      <th>survived ratio of male</th>\n",
       "      <th>female_survived_num</th>\n",
       "      <th>survived ratio of female</th>\n",
       "    </tr>\n",
       "  </thead>\n",
       "  <tbody>\n",
       "    <tr>\n",
       "      <th>class1</th>\n",
       "      <td>216</td>\n",
       "      <td>122</td>\n",
       "      <td>94</td>\n",
       "      <td>1.297872</td>\n",
       "      <td>45</td>\n",
       "      <td>0.368852</td>\n",
       "      <td>91</td>\n",
       "      <td>0.968085</td>\n",
       "    </tr>\n",
       "    <tr>\n",
       "      <th>class2</th>\n",
       "      <td>184</td>\n",
       "      <td>108</td>\n",
       "      <td>76</td>\n",
       "      <td>1.421053</td>\n",
       "      <td>17</td>\n",
       "      <td>0.157407</td>\n",
       "      <td>70</td>\n",
       "      <td>0.921053</td>\n",
       "    </tr>\n",
       "    <tr>\n",
       "      <th>class3</th>\n",
       "      <td>491</td>\n",
       "      <td>347</td>\n",
       "      <td>144</td>\n",
       "      <td>2.409722</td>\n",
       "      <td>47</td>\n",
       "      <td>0.135447</td>\n",
       "      <td>72</td>\n",
       "      <td>0.500000</td>\n",
       "    </tr>\n",
       "  </tbody>\n",
       "</table>\n",
       "</div>"
      ],
      "text/plain": [
       "        total_num  total_male_num  total_female_num  total_ratio  \\\n",
       "class1        216             122                94     1.297872   \n",
       "class2        184             108                76     1.421053   \n",
       "class3        491             347               144     2.409722   \n",
       "\n",
       "        male_survived_num  survived ratio of male  female_survived_num  \\\n",
       "class1                 45                0.368852                   91   \n",
       "class2                 17                0.157407                   70   \n",
       "class3                 47                0.135447                   72   \n",
       "\n",
       "        survived ratio of female  \n",
       "class1                  0.968085  \n",
       "class2                  0.921053  \n",
       "class3                  0.500000  "
      ]
     },
     "execution_count": 212,
     "metadata": {},
     "output_type": "execute_result"
    }
   ],
   "source": [
    "#列出表格\n",
    "pd.DataFrame([sex_num_Pclass(1),sex_num_Pclass(2),sex_num_Pclass(3)],index= ['class1','class2','class3'],\\\n",
    "             columns=['total_num','total_male_num','total_female_num','total_ratio','male_survived_num',\\\n",
    "                      'survived ratio of male','female_survived_num','survived ratio of female'] )"
   ]
  },
  {
   "cell_type": "markdown",
   "metadata": {},
   "source": [
    "通过上表，我们发现一等舱的男女比例为1.3：1，二等舱的男女比例为1.42：1，三等舱的男女比例为2.41：1，显然三等舱的男性成员更多，从而拉低了三等舱的生还比例，但是值得注意的是，一等舱的男性生还比例达到36.9%，远高于三等舱的生还比例13.54%；一等舱和二等舱的女性生还比例高于90%，但是三等舱的女性生还比例只有50%。显然，在各自等级下，女性生还比例远大于男性；另外，乘客等级越高，生还概率越大。高等级乘客生还比例高的原因有两种可能性，一种是高等级乘客的客房离甲板近，可以迅速聚集在救生艇周围从而优先上救生艇，低等级乘客在船的底部，船体沉没时会更危险；另一种解释是，负责指挥的船员优先安排高等级的乘客上救生艇。根据资料记载，在泰塔尼克号完全沉没前，还有两艘救生艇没有落下，显然是时间不够用，可能部分等待上船的低等级的女性乘客没有来得及上船。"
   ]
  },
  {
   "cell_type": "markdown",
   "metadata": {},
   "source": [
    "## 结论\n",
    "根据上述分析，我们发现性别和年龄因素是影响乘客生存的关键因素，女性或者儿童的生存比例要远高于成年男性。另外，乘客等级越高，生存比例也越高，但即使是一等舱的男性乘客，生存比例也只有36.9%，低于三等舱的女星生存比例50%。说明性别是影响生存的关键因素。\n",
    "遗憾的是并没有得到全部乘客的资料，而且部分资料也缺失了，实际的男女各自的生存比例可能低于上述统计结果，这是因为生还者的资料更容易收集。"
   ]
  }
 ],
 "metadata": {
  "anaconda-cloud": {},
  "kernelspec": {
   "display_name": "Python [Root]",
   "language": "python",
   "name": "Python [Root]"
  },
  "language_info": {
   "codemirror_mode": {
    "name": "ipython",
    "version": 2
   },
   "file_extension": ".py",
   "mimetype": "text/x-python",
   "name": "python",
   "nbconvert_exporter": "python",
   "pygments_lexer": "ipython2",
   "version": "2.7.12"
  }
 },
 "nbformat": 4,
 "nbformat_minor": 0
}
